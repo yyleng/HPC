{
 "cells": [
  {
   "cell_type": "code",
   "execution_count": 17,
   "id": "7341f106-8553-4f51-88ab-b6d5b4862b4c",
   "metadata": {},
   "outputs": [],
   "source": [
    "import torch.nn as nn"
   ]
  },
  {
   "cell_type": "code",
   "execution_count": 18,
   "id": "aa905f5d-6692-4bbf-8587-cdc6ca73c8b9",
   "metadata": {},
   "outputs": [
    {
     "data": {
      "text/plain": [
       "Linear(in_features=1, out_features=1, bias=True)"
      ]
     },
     "execution_count": 18,
     "metadata": {},
     "output_type": "execute_result"
    }
   ],
   "source": [
    "linear_model = nn.Linear(1,1)\n",
    "linear_model"
   ]
  },
  {
   "cell_type": "code",
   "execution_count": 19,
   "id": "21e164af-71fd-4092-aa8c-028573332a43",
   "metadata": {},
   "outputs": [
    {
     "data": {
      "text/plain": [
       "Parameter containing:\n",
       "tensor([[-0.6332]], requires_grad=True)"
      ]
     },
     "execution_count": 19,
     "metadata": {},
     "output_type": "execute_result"
    }
   ],
   "source": [
    "linear_model.weight"
   ]
  },
  {
   "cell_type": "code",
   "execution_count": 20,
   "id": "ae2d5971-30b7-43de-9462-376ec701780c",
   "metadata": {},
   "outputs": [
    {
     "data": {
      "text/plain": [
       "Parameter containing:\n",
       "tensor([0.9559], requires_grad=True)"
      ]
     },
     "execution_count": 20,
     "metadata": {},
     "output_type": "execute_result"
    }
   ],
   "source": [
    "linear_model.bias"
   ]
  },
  {
   "cell_type": "code",
   "execution_count": 21,
   "id": "f3dec22d-9120-413d-bbdb-1289f01d4fb0",
   "metadata": {},
   "outputs": [],
   "source": [
    "# 举个例子来说明 nn.models 天然支持多 batch\n",
    "import torch"
   ]
  },
  {
   "cell_type": "code",
   "execution_count": 22,
   "id": "17e25317-dc62-4df0-9cc2-14da75963133",
   "metadata": {},
   "outputs": [
    {
     "data": {
      "text/plain": [
       "tensor([[0.3226],\n",
       "        [0.3226],\n",
       "        [0.3226],\n",
       "        [0.3226],\n",
       "        [0.3226],\n",
       "        [0.3226],\n",
       "        [0.3226],\n",
       "        [0.3226],\n",
       "        [0.3226],\n",
       "        [0.3226]], grad_fn=<AddmmBackward0>)"
      ]
     },
     "execution_count": 22,
     "metadata": {},
     "output_type": "execute_result"
    }
   ],
   "source": [
    "x = torch.ones(10,1)\n",
    "linear_model(x)"
   ]
  },
  {
   "cell_type": "code",
   "execution_count": 23,
   "id": "7cc36f83-82ee-4d68-b125-0faa31768ce4",
   "metadata": {},
   "outputs": [],
   "source": [
    "# 接下来实现之前的例子\n",
    "import torch.optim as optim\n",
    "t_c = [0.5, 14.0, 15.0, 28.0, 11.0, 8.0, 3.0, -4.0, 6.0, 13.0, 21.0]\n",
    "t_u = [35.7, 55.9, 58.2, 81.9, 56.3, 48.9, 33.9, 21.8, 48.4, 60.4, 68.4]\n",
    "t_c = torch.tensor(t_c).unsqueeze(1) # batch * in_feature\n",
    "t_u = torch.tensor(t_u).unsqueeze(1) # batch * in_feature\n",
    "optimizer = optim.SGD(linear_model.parameters(),lr=1e-2) \n",
    "t_un = 0.1 * t_u # nornamize"
   ]
  },
  {
   "cell_type": "code",
   "execution_count": 24,
   "id": "bc519a63-f3cf-48b1-9b40-266652523c22",
   "metadata": {},
   "outputs": [
    {
     "data": {
      "text/plain": [
       "[Parameter containing:\n",
       " tensor([[-0.6332]], requires_grad=True),\n",
       " Parameter containing:\n",
       " tensor([0.9559], requires_grad=True)]"
      ]
     },
     "execution_count": 24,
     "metadata": {},
     "output_type": "execute_result"
    }
   ],
   "source": [
    "list(linear_model.parameters())"
   ]
  },
  {
   "cell_type": "code",
   "execution_count": 25,
   "id": "1a50e722-1f02-4f77-94d6-a8001902e42d",
   "metadata": {},
   "outputs": [
    {
     "name": "stdout",
     "output_type": "stream",
     "text": [
      "Epoch 1, Training loss 260.1380\n",
      "Epoch 1000, Training loss 3.9568\n",
      "Epoch 2000, Training loss 2.9620\n",
      "Epoch 3000, Training loss 2.9288\n"
     ]
    }
   ],
   "source": [
    "n_epochs = 3000\n",
    "for epoch in range(1, n_epochs + 1):\n",
    " t_p = linear_model(t_un) # 替换之前的 model 函数\n",
    " lossf = nn.MSELoss()\n",
    " loss = lossf(t_p,t_c)\n",
    " optimizer.zero_grad()\n",
    " loss.backward()\n",
    " optimizer.step()\n",
    " if epoch == 1 or epoch % 1000 == 0:\n",
    "   print(f\"Epoch {epoch}, Training loss {loss.item():.4f}\") "
   ]
  },
  {
   "cell_type": "code",
   "execution_count": 26,
   "id": "44ab6839-4813-47ca-856c-15b0faf74ee7",
   "metadata": {},
   "outputs": [
    {
     "data": {
      "text/plain": [
       "Sequential(\n",
       "  (0): Linear(in_features=1, out_features=13, bias=True)\n",
       "  (1): Tanh()\n",
       "  (2): Linear(in_features=13, out_features=1, bias=True)\n",
       ")"
      ]
     },
     "execution_count": 26,
     "metadata": {},
     "output_type": "execute_result"
    }
   ],
   "source": [
    "# nn.Sequential 返回的也是一个model, 其内部由多个 model 顺序连接而成\n",
    "seq_model = nn.Sequential(nn.Linear(1,13),nn.Tanh(),nn.Linear(13,1))\n",
    "seq_model"
   ]
  },
  {
   "cell_type": "code",
   "execution_count": 31,
   "id": "8986a880-b275-4677-8d0b-2c33e2d6a4d8",
   "metadata": {},
   "outputs": [
    {
     "name": "stdout",
     "output_type": "stream",
     "text": [
      "hidden_linear.weight torch.Size([8, 1])\n",
      "hidden_linear.bias torch.Size([8])\n",
      "output_linear.weight torch.Size([1, 8])\n",
      "output_linear.bias torch.Size([1])\n"
     ]
    }
   ],
   "source": [
    "# seq_model 内部可以计算梯度的参数shape\n",
    "[param.shape for param in seq_model.parameters()]\n",
    "for name, param in seq_model.named_parameters():\n",
    " print(name, param.shape)"
   ]
  },
  {
   "cell_type": "code",
   "execution_count": 30,
   "id": "43136179-4f89-489b-a856-5261f6decca4",
   "metadata": {},
   "outputs": [
    {
     "name": "stdout",
     "output_type": "stream",
     "text": [
      "hidden_linear.weight torch.Size([8, 1])\n",
      "hidden_linear.bias torch.Size([8])\n",
      "output_linear.weight torch.Size([1, 8])\n",
      "output_linear.bias torch.Size([1])\n"
     ]
    }
   ],
   "source": [
    "# 也可以用有名的方式设置内部 model\n",
    "from collections import OrderedDict\n",
    "seq_model = nn.Sequential(OrderedDict([\n",
    " ('hidden_linear', nn.Linear(1, 8)),\n",
    " ('hidden_activation', nn.Tanh()),\n",
    " ('output_linear', nn.Linear(8, 1))\n",
    "])) \n",
    "for name, param in seq_model.named_parameters():\n",
    " print(name, param.shape)"
   ]
  },
  {
   "cell_type": "code",
   "execution_count": 32,
   "id": "62ed3946-ee78-40af-8bfb-e78e73e9faa9",
   "metadata": {},
   "outputs": [
    {
     "data": {
      "text/plain": [
       "Parameter containing:\n",
       "tensor([0.2287], requires_grad=True)"
      ]
     },
     "execution_count": 32,
     "metadata": {},
     "output_type": "execute_result"
    }
   ],
   "source": [
    "# 访问特定子模块的参数\n",
    "seq_model.output_linear.bias"
   ]
  },
  {
   "cell_type": "code",
   "execution_count": 33,
   "id": "20b5b369-a462-4d0e-a878-1d24077712da",
   "metadata": {},
   "outputs": [
    {
     "name": "stdout",
     "output_type": "stream",
     "text": [
      "Epoch 1, Training loss 185.9357\n",
      "Epoch 1000, Training loss 185.9357\n",
      "Epoch 2000, Training loss 185.9357\n",
      "Epoch 3000, Training loss 185.9357\n"
     ]
    }
   ],
   "source": [
    "n_epochs = 3000\n",
    "optimizer = optim.SGD(seq_model.parameters(), lr=1e-3)\n",
    "for epoch in range(1, n_epochs + 1):\n",
    " t_p = seq_model(t_un) # 替换之前的 model 函数\n",
    " lossf = nn.MSELoss()\n",
    " loss = lossf(t_p,t_c)\n",
    " optimizer.zero_grad()\n",
    " loss.backward()\n",
    " optimizer.step()\n",
    " if epoch == 1 or epoch % 1000 == 0:\n",
    "   print(f\"Epoch {epoch}, Training loss {loss.item():.4f}\") "
   ]
  },
  {
   "cell_type": "code",
   "execution_count": null,
   "id": "cc389220-8b85-4cf5-8b1c-7a6a5cb16e3c",
   "metadata": {},
   "outputs": [],
   "source": []
  }
 ],
 "metadata": {
  "kernelspec": {
   "display_name": "Python 3 (ipykernel)",
   "language": "python",
   "name": "python3"
  },
  "language_info": {
   "codemirror_mode": {
    "name": "ipython",
    "version": 3
   },
   "file_extension": ".py",
   "mimetype": "text/x-python",
   "name": "python",
   "nbconvert_exporter": "python",
   "pygments_lexer": "ipython3",
   "version": "3.8.0"
  }
 },
 "nbformat": 4,
 "nbformat_minor": 5
}
