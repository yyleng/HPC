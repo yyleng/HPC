{
 "cells": [
  {
   "cell_type": "code",
   "execution_count": 1,
   "id": "2f2af6b0-fc57-42c1-b821-32d0a80e165f",
   "metadata": {},
   "outputs": [
    {
     "name": "stdout",
     "output_type": "stream",
     "text": [
      "Downloading https://www.cs.toronto.edu/~kriz/cifar-10-python.tar.gz to ../data-unversioned/cifar-10-python.tar.gz\n"
     ]
    },
    {
     "name": "stderr",
     "output_type": "stream",
     "text": [
      "100.0%\n"
     ]
    },
    {
     "name": "stdout",
     "output_type": "stream",
     "text": [
      "Extracting ../data-unversioned/cifar-10-python.tar.gz to ../data-unversioned/\n",
      "Files already downloaded and verified\n"
     ]
    }
   ],
   "source": [
    "from torchvision import datasets\n",
    "data_path = '../data-unversioned/'\n",
    "# 下载训练数据集\n",
    "cifar10 = datasets.CIFAR10(data_path, train=True, download=True)\n",
    "# 下载验证数据集\n",
    "cifar10_val = datasets.CIFAR10(data_path, train=False, download=True)"
   ]
  },
  {
   "cell_type": "code",
   "execution_count": 2,
   "id": "8869d7d9-5645-4021-8561-c9b906c1b980",
   "metadata": {},
   "outputs": [
    {
     "data": {
      "text/plain": [
       "50000"
      ]
     },
     "execution_count": 2,
     "metadata": {},
     "output_type": "execute_result"
    }
   ],
   "source": [
    "len(cifar10)"
   ]
  },
  {
   "cell_type": "code",
   "execution_count": 9,
   "id": "e0166e2c-d7d9-4ed0-8102-74025fa48c2d",
   "metadata": {},
   "outputs": [
    {
     "data": {
      "text/plain": [
       "(<PIL.Image.Image image mode=RGB size=32x32>, 4)"
      ]
     },
     "execution_count": 9,
     "metadata": {},
     "output_type": "execute_result"
    }
   ],
   "source": [
    "img,label = cifar10[10]\n",
    "img,label"
   ]
  },
  {
   "cell_type": "code",
   "execution_count": 10,
   "id": "0a062626-1185-479c-a0c6-358cf2410911",
   "metadata": {},
   "outputs": [
    {
     "data": {
      "text/plain": [
       "<matplotlib.image.AxesImage at 0x7fd5968e5520>"
      ]
     },
     "execution_count": 10,
     "metadata": {},
     "output_type": "execute_result"
    },
    {
     "data": {
      "image/png": "[encoded data removed]",
      "text/plain": [
       "<Figure size 640x480 with 1 Axes>"
      ]
     },
     "metadata": {},
     "output_type": "display_data"
    }
   ],
   "source": [
    "from matplotlib import pyplot as plt\n",
    "plt.imshow(img)"
   ]
  },
  {
   "cell_type": "code",
   "execution_count": 17,
   "id": "d7cdcac9-c7e0-4581-9f86-171e892ac6ce",
   "metadata": {},
   "outputs": [],
   "source": [
    "from torchvision import transforms\n",
    "# CIFAR-10 数据集中的图像尺寸本来就是 32x32，我这里只是为了演示 transforms.Sequence 的用法\n",
    "pil_transform = transforms.Compose([\n",
    "    transforms.ToTensor()\n",
    "])\n",
    "\n"
   ]
  },
  {
   "cell_type": "code",
   "execution_count": 18,
   "id": "8481cd98-169f-43f5-a1d7-425ec35cf938",
   "metadata": {},
   "outputs": [
    {
     "name": "stdout",
     "output_type": "stream",
     "text": [
      "Files already downloaded and verified\n",
      "Files already downloaded and verified\n"
     ]
    }
   ],
   "source": [
    "cifar10 = datasets.CIFAR10(data_path, train=True, download=True,transform=pil_transform)\n",
    "cifar10_val = datasets.CIFAR10(data_path, train=False, download=True,transform=pil_transform)\n",
    "\n"
   ]
  },
  {
   "cell_type": "code",
   "execution_count": 20,
   "id": "4711ac57-df33-496e-84f0-e0ff662167b7",
   "metadata": {},
   "outputs": [
    {
     "data": {
      "text/plain": [
       "torch.Tensor"
      ]
     },
     "execution_count": 20,
     "metadata": {},
     "output_type": "execute_result"
    }
   ],
   "source": [
    "img,_ = cifar10[10]\n",
    "type(img)"
   ]
  },
  {
   "cell_type": "code",
   "execution_count": 22,
   "id": "d2eb56a2-64ca-496b-94ba-b0f71f3daa05",
   "metadata": {},
   "outputs": [
    {
     "data": {
      "text/plain": [
       "(torch.Size([3, 32, 32]), torch.float32)"
      ]
     },
     "execution_count": 22,
     "metadata": {},
     "output_type": "execute_result"
    }
   ],
   "source": [
    "img.shape, img.dtype"
   ]
  },
  {
   "cell_type": "code",
   "execution_count": 24,
   "id": "d7152d33-4fb9-4d4d-aa18-e00534677d16",
   "metadata": {},
   "outputs": [
    {
     "data": {
      "text/plain": [
       "(tensor(0.0941), tensor(0.5098))"
      ]
     },
     "execution_count": 24,
     "metadata": {},
     "output_type": "execute_result"
    }
   ],
   "source": [
    "img.min(), img.max() "
   ]
  },
  {
   "cell_type": "code",
   "execution_count": 35,
   "id": "1007bdd6-60d1-42b7-9a5f-701ed22425b4",
   "metadata": {},
   "outputs": [
    {
     "data": {
      "text/plain": [
       "(tensor([0.4914, 0.4822, 0.4465]), tensor([0.2470, 0.2435, 0.2616]))"
      ]
     },
     "execution_count": 35,
     "metadata": {},
     "output_type": "execute_result"
    }
   ],
   "source": [
    "import torch\n",
    "# dim 参数从左到右，是保留几维的意思\n",
    "imgs = torch.stack([img for img,_ in cifar10], dim=3)\n",
    "imgs.view(3,-1).mean(dim=1), imgs.view(3,-1).std(dim=1)\n"
   ]
  },
  {
   "cell_type": "code",
   "execution_count": 1,
   "id": "7b9b25f3-8286-4e3d-96f3-380f1927b96c",
   "metadata": {},
   "outputs": [
    {
     "name": "stdout",
     "output_type": "stream",
     "text": [
      "Files already downloaded and verified\n",
      "Files already downloaded and verified\n"
     ]
    }
   ],
   "source": [
    "from torchvision import datasets\n",
    "from torchvision import transforms\n",
    "data_path = '../data-unversioned/'\n",
    "\n",
    "pil_transform = transforms.Compose([\n",
    "    transforms.ToTensor(),\n",
    "    transforms.Normalize((0.4914, 0.4822, 0.4465),(0.2470, 0.2435, 0.2616))\n",
    "])\n",
    "\n",
    "cifar10 = datasets.CIFAR10(data_path, train=True, download=True,transform=pil_transform)\n",
    "cifar10_val = datasets.CIFAR10(data_path, train=False, download=True,transform=pil_transform)\n",
    "\n"
   ]
  },
  {
   "cell_type": "code",
   "execution_count": 2,
   "id": "45fe113d-393d-4053-b845-764a2bd5dc63",
   "metadata": {},
   "outputs": [],
   "source": [
    "label_map = {0: 0, 2: 1}\n",
    "class_names = ['airplane', 'bird']\n",
    "cifar2 = [(img, label_map[label]) for img, label in cifar10 if label in [0, 2]]\n",
    "cifar2_val = [(img, label_map[label]) for img, label in cifar10_val if label in [0, 2]]"
   ]
  },
  {
   "cell_type": "code",
   "execution_count": null,
   "id": "dba3cb76-b150-40d0-add8-8f6e2baf9b4f",
   "metadata": {},
   "outputs": [],
   "source": []
  }
 ],
 "metadata": {
  "kernelspec": {
   "display_name": "Python 3 (ipykernel)",
   "language": "python",
   "name": "python3"
  },
  "language_info": {
   "codemirror_mode": {
    "name": "ipython",
    "version": 3
   },
   "file_extension": ".py",
   "mimetype": "text/x-python",
   "name": "python",
   "nbconvert_exporter": "python",
   "pygments_lexer": "ipython3",
   "version": "3.8.20"
  }
 },
 "nbformat": 4,
 "nbformat_minor": 5
}
